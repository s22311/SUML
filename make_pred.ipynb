{
 "cells": [
  {
   "cell_type": "code",
   "execution_count": null,
   "id": "61b65e8d-b469-4388-8784-9f28cfbe8d44",
   "metadata": {
    "is_executing": true
   },
   "outputs": [],
   "source": [
    "import joblib\n",
    "import numpy as np\n",
    "import keras\n",
    "from keras.models import Sequential\n",
    "from keras.layers import LSTM, Dense, Dropout, TFSMLayer\n",
    "import tensorflow as tf\n",
    "from sklearn.preprocessing import MinMaxScaler"
   ]
  },
  {
   "cell_type": "code",
   "execution_count": 2,
   "id": "97dc29d7-b3c2-4cb4-b6df-372ace9a7a6d",
   "metadata": {},
   "outputs": [],
   "source": [
    "# Load saved model and scaler\n",
    "reconstructed_model = keras.models.load_model(\"./utils/test_prediction_model1.keras\")\n",
    "scaler_loaded = joblib.load('./utils/scaler1.pkl')"
   ]
  },
  {
   "cell_type": "code",
   "execution_count": 3,
   "id": "caa55d7b-6cd2-4f4b-acd9-0033557219a0",
   "metadata": {},
   "outputs": [
    {
     "name": "stdout",
     "output_type": "stream",
     "text": [
      "[[0.63636364 0.33333333 0.11111111 1.         0.54736842 0.\n",
      "  1.         1.        ]]\n"
     ]
    }
   ],
   "source": [
    "# Prepare the data so that the model can make a prediction\n",
    "my_dataset = np.array([8, 3, 2, 16, 52, 0, 1, 1]).astype(np.int16)\n",
    "my_dataset = my_dataset.reshape(1, -1)\n",
    "my_dataset = scaler_loaded.transform(my_dataset)\n",
    "print(my_dataset)"
   ]
  },
  {
   "cell_type": "code",
   "execution_count": 5,
   "id": "1eb7820d-b724-4930-9fc3-0a62f7d9fa70",
   "metadata": {},
   "outputs": [
    {
     "name": "stdout",
     "output_type": "stream",
     "text": [
      "\u001B[1m1/1\u001B[0m \u001B[32m━━━━━━━━━━━━━━━━━━━━\u001B[0m\u001B[37m\u001B[0m \u001B[1m0s\u001B[0m 53ms/step\n",
      "0.45121797919273376\n"
     ]
    }
   ],
   "source": [
    "# Predict flight delay for the given dataset.\n",
    "# prediction > 0.5 -> flight delayed by at least 15 minutes\n",
    "# prediction < 0.5 -> flight delayed by at most 15 minutes\n",
    "prediction = reconstructed_model.predict(my_dataset)\n",
    "print(prediction.item())"
   ]
  },
  {
   "cell_type": "code",
   "execution_count": null,
   "id": "6145574a-81ea-4999-992a-b974b5446a2f",
   "metadata": {},
   "outputs": [],
   "source": []
  }
 ],
 "metadata": {
  "kernelspec": {
   "display_name": "Python 3 (ipykernel)",
   "language": "python",
   "name": "python3"
  },
  "language_info": {
   "codemirror_mode": {
    "name": "ipython",
    "version": 3
   },
   "file_extension": ".py",
   "mimetype": "text/x-python",
   "name": "python",
   "nbconvert_exporter": "python",
   "pygments_lexer": "ipython3",
   "version": "3.12.2"
  }
 },
 "nbformat": 4,
 "nbformat_minor": 5
}
